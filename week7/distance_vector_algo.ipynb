{
 "cells": [
  {
   "cell_type": "code",
   "execution_count": 21,
   "metadata": {},
   "outputs": [],
   "source": [
    "class Graph:\n",
    "\n",
    "    def __init__(self, vertices):\n",
    "        self.V = vertices   \n",
    "        self.graph = []   \n",
    "\n",
    "\n",
    "    def add_edge(self, s, d, w):\n",
    "        self.graph.append([s, d, w])\n",
    "\n",
    "\n",
    "    def print_solution(self, dist, src):\n",
    "        print(\"Routing table for \", src)\n",
    "        print(\"Dest \\t Cost\")\n",
    "        for i in range(self.V):\n",
    "            print(\"{0}\\t{1}\".format(i, dist[i]))\n",
    "\n",
    "    def bellman_ford(self, src):\n",
    "\n",
    "        dist = [99] * self.V\n",
    "        dist[src] = 0\n",
    "\n",
    "        for _ in range(self.V - 1):\n",
    "            for s, d, w in self.graph:\n",
    "                if dist[s] != 99 and dist[s] + w < dist[d]:\n",
    "                    dist[d] = dist[s] + w\n",
    "\n",
    "        for s, d, w in self.graph:\n",
    "            if dist[s] != 99 and dist[s] + w < dist[d]:\n",
    "                print(\"Graph contains negative weight cycle\")\n",
    "                return\n",
    "\n",
    "        self.print_solution(dist, src)\n"
   ]
  },
  {
   "cell_type": "code",
   "execution_count": 22,
   "metadata": {},
   "outputs": [],
   "source": [
    "def main():\n",
    "    matrix = []\n",
    "    print(\"Enter the no. of routers:\")\n",
    "    n = int(input())\n",
    "    print(\"Enter the adjacency matrix : Enter 99 for infinity\")\n",
    "    for i in range(0,n):\n",
    "        a = list(map(int, input().split(\" \")))\n",
    "        matrix.append(a)\n",
    "        \n",
    "    g = Graph(n)\n",
    "    for i in range(0,n):\n",
    "        for j in range(0,n):\n",
    "            if matrix[i][j] == 1:\n",
    "                g.add_edge(i,j,1)\n",
    "                \n",
    "    for k in range(0, n):\n",
    "        g.bellman_ford(k)"
   ]
  },
  {
   "cell_type": "code",
   "execution_count": 24,
   "metadata": {},
   "outputs": [
    {
     "name": "stdout",
     "output_type": "stream",
     "text": [
      "Enter the no. of routers:\n",
      "5\n",
      "Enter the adjacency matrix : Enter 99 for infinity\n",
      "0 1 1 99 99\n",
      "1 0 99 99 99\n",
      "1 99 0 1 1\n",
      "99 99 0 1 1\n",
      "99 99 1 99 0\n",
      "Routing table for  0\n",
      "Dest \t Cost\n",
      "0\t0\n",
      "1\t1\n",
      "2\t1\n",
      "3\t2\n",
      "4\t2\n",
      "Routing table for  1\n",
      "Dest \t Cost\n",
      "0\t1\n",
      "1\t0\n",
      "2\t2\n",
      "3\t3\n",
      "4\t3\n",
      "Routing table for  2\n",
      "Dest \t Cost\n",
      "0\t1\n",
      "1\t2\n",
      "2\t0\n",
      "3\t1\n",
      "4\t1\n",
      "Routing table for  3\n",
      "Dest \t Cost\n",
      "0\t3\n",
      "1\t4\n",
      "2\t2\n",
      "3\t0\n",
      "4\t1\n",
      "Routing table for  4\n",
      "Dest \t Cost\n",
      "0\t2\n",
      "1\t3\n",
      "2\t1\n",
      "3\t2\n",
      "4\t0\n"
     ]
    }
   ],
   "source": [
    "main()"
   ]
  },
  {
   "cell_type": "code",
   "execution_count": 25,
   "metadata": {},
   "outputs": [
    {
     "name": "stdout",
     "output_type": "stream",
     "text": [
      "Enter the no. of routers:\n",
      "4\n",
      "Enter the adjacency matrix : Enter 99 for infinity\n",
      "0 1 99 99\n",
      "1 0 99 99\n",
      "1 99 0 1\n",
      "99 99 1 0\n",
      "Routing table for  0\n",
      "Dest \t Cost\n",
      "0\t0\n",
      "1\t1\n",
      "2\t99\n",
      "3\t99\n",
      "Routing table for  1\n",
      "Dest \t Cost\n",
      "0\t1\n",
      "1\t0\n",
      "2\t99\n",
      "3\t99\n",
      "Routing table for  2\n",
      "Dest \t Cost\n",
      "0\t1\n",
      "1\t2\n",
      "2\t0\n",
      "3\t1\n",
      "Routing table for  3\n",
      "Dest \t Cost\n",
      "0\t2\n",
      "1\t3\n",
      "2\t1\n",
      "3\t0\n"
     ]
    }
   ],
   "source": [
    "main()"
   ]
  },
  {
   "cell_type": "code",
   "execution_count": null,
   "metadata": {},
   "outputs": [],
   "source": []
  }
 ],
 "metadata": {
  "kernelspec": {
   "display_name": "Python 3",
   "language": "python",
   "name": "python3"
  },
  "language_info": {
   "codemirror_mode": {
    "name": "ipython",
    "version": 3
   },
   "file_extension": ".py",
   "mimetype": "text/x-python",
   "name": "python",
   "nbconvert_exporter": "python",
   "pygments_lexer": "ipython3",
   "version": "3.7.6"
  }
 },
 "nbformat": 4,
 "nbformat_minor": 4
}
